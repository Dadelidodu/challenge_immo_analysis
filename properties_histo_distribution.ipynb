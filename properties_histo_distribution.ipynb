{
 "cells": [
  {
   "cell_type": "code",
   "execution_count": 1,
   "metadata": {},
   "outputs": [],
   "source": [
    "import pandas as pd\n",
    "import seaborn as sns\n",
    "import matplotlib.pyplot as plt\n",
    "from matplotlib.ticker import FuncFormatter\n",
    "\n",
    "# Load the dataset\n",
    "\n",
    "file_path = r\"C:\\Users\\Administrator\\BXL-Bouman-8\\challenge_immo_analysis\\data\\normalized_dataset.csv\"\n",
    "file_cp_region_path = r\"C:\\Users\\Administrator\\BXL-Bouman-8\\challenge_immo_analysis\\data\\cp_region.csv\"\n",
    "data = pd.read_csv(file_path)\n",
    "cp_region_data = pd.read_csv(file_cp_region_path)\n",
    "\n",
    "data = pd.merge(data, cp_region_data[['Zip Code', 'region_name_fr']], on='Zip Code', how='left')"
   ]
  },
  {
   "cell_type": "code",
   "execution_count": 3,
   "metadata": {},
   "outputs": [],
   "source": [
    "# Filter data by region\n",
    "data_belgium = data.copy()\n",
    "data_wallonia = data[data['region_name_fr'] == 'Région wallonne']\n",
    "data_flanders = data[data['region_name_fr'] == 'Région flamande']\n",
    "data_brussels = data[data['region_name_fr'] == 'Région de Bruxelles-Capitale']\n",
    "\n"
   ]
  },
  {
   "cell_type": "code",
   "execution_count": 4,
   "metadata": {},
   "outputs": [],
   "source": [
    "#colors\n",
    "colors = {\n",
    "    \"Belgium\": \"#1f77b4\",  # Blue\n",
    "    \"Wallonia\": \"#ff7f0e\",  # Orange\n",
    "    \"Flanders\": \"#2ca02c\",  # Green\n",
    "    \"Brussels\": \"#9467bd\",  # Purple\n",
    "}\n",
    "\n",
    "# Set Seaborn theme for  styling\n",
    "sns.set_theme(style=\"whitegrid\", font=\"Arial\", rc={\"axes.titlesize\": 14, \"axes.labelsize\": 12})\n",
    "\n",
    "# Function to format axes with commas\n",
    "def format_ticks(x, _):\n",
    "    return f'{int(x):,}'\n",
    "\n",
    "# Function to plot histograms with density curves\n",
    "def plot_seaborn_histogram_with_kde(data, column, title, color, ax):\n",
    "    avg_value = data[column].mean()\n",
    "    median_value = data[column].median()\n",
    "    \n",
    "    # Plot histogram with density curve\n",
    "    sns.histplot(data[column], kde=True, bins=20, color=color, ax=ax, alpha=0.7, line_kws={\"linewidth\": 2})\n",
    "    \n",
    "    # Add average and median lines\n",
    "    ax.axvline(avg_value, color='red', linestyle='--', linewidth=1.5, label=f'Avg: {avg_value:,.2f}')\n",
    "    ax.axvline(median_value, color='green', linestyle='--', linewidth=1.5, label=f'Median: {median_value:,.2f}')\n",
    "    \n",
    "    # Customize the plot's appearance\n",
    "    ax.set_title(title, weight='bold', color=\"#333333\")\n",
    "    ax.set_xlabel(f\"{column} (€)\", fontsize=12, weight='bold')\n",
    "    ax.set_ylabel(\"Frequency\", fontsize=12, weight='bold')\n",
    "    ax.legend(fontsize=10)\n",
    "    ax.grid(True, linestyle='--', linewidth=0.5, alpha=0.7)\n",
    "    \n",
    "    # Format x-axis ticks with commas\n",
    "    ax.xaxis.set_major_formatter(FuncFormatter(format_ticks))"
   ]
  },
  {
   "cell_type": "code",
   "execution_count": null,
   "metadata": {},
   "outputs": [],
   "source": [
    "# Plot Price Distribution with Density Curves\n",
    "fig, axes = plt.subplots(2, 2, figsize=(18, 12), tight_layout=True)\n",
    "plot_seaborn_histogram_with_kde(data_belgium, 'Price', \"Belgium - Price Distribution\", colors[\"Belgium\"], axes[0, 0])\n",
    "plot_seaborn_histogram_with_kde(data_wallonia, 'Price', \"Wallonia - Price Distribution\", colors[\"Wallonia\"], axes[0, 1])\n",
    "plot_seaborn_histogram_with_kde(data_flanders, 'Price', \"Flanders - Price Distribution\", colors[\"Flanders\"], axes[1, 0])\n",
    "plot_seaborn_histogram_with_kde(data_brussels, 'Price', \"Brussels - Price Distribution\", colors[\"Brussels\"], axes[1, 1])\n",
    "plt.show()"
   ]
  },
  {
   "cell_type": "code",
   "execution_count": null,
   "metadata": {},
   "outputs": [],
   "source": [
    "# Plot Price per Square Meter Distribution with Density Curves\n",
    "fig, axes = plt.subplots(2, 2, figsize=(18, 12), tight_layout=True)\n",
    "plot_seaborn_histogram_with_kde(data_belgium, 'Price/m2', \"Belgium - Price per Square Meter\", colors[\"Belgium\"], axes[0, 0])\n",
    "plot_seaborn_histogram_with_kde(data_wallonia, 'Price/m2', \"Wallonia - Price per Square Meter\", colors[\"Wallonia\"], axes[0, 1])\n",
    "plot_seaborn_histogram_with_kde(data_flanders, 'Price/m2', \"Flanders - Price per Square Meter\", colors[\"Flanders\"], axes[1, 0])\n",
    "plot_seaborn_histogram_with_kde(data_brussels, 'Price/m2', \"Brussels - Price per Square Meter\", colors[\"Brussels\"], axes[1, 1])\n",
    "plt.show()"
   ]
  }
 ],
 "metadata": {
  "kernelspec": {
   "display_name": "immoeliza_env",
   "language": "python",
   "name": "python3"
  },
  "language_info": {
   "codemirror_mode": {
    "name": "ipython",
    "version": 3
   },
   "file_extension": ".py",
   "mimetype": "text/x-python",
   "name": "python",
   "nbconvert_exporter": "python",
   "pygments_lexer": "ipython3",
   "version": "3.12.7"
  }
 },
 "nbformat": 4,
 "nbformat_minor": 2
}
